{
 "cells": [
  {
   "cell_type": "markdown",
   "metadata": {},
   "source": [
    "Lab Assessment (23 Jan 2024)\n",
    "---\n",
    "Done By Praveen Perumal (CH.EN.U4CSE22047)"
   ]
  },
  {
   "cell_type": "code",
   "execution_count": 1,
   "metadata": {},
   "outputs": [],
   "source": [
    "from dataclasses import dataclass\n",
    "from typing import Any"
   ]
  },
  {
   "cell_type": "code",
   "execution_count": 2,
   "metadata": {},
   "outputs": [],
   "source": [
    "@dataclass\n",
    "class Node:\n",
    "    data: 'Any'\n",
    "    left: 'Node | None' = None\n",
    "    right: 'Node | None' = None"
   ]
  },
  {
   "cell_type": "code",
   "execution_count": 3,
   "metadata": {},
   "outputs": [],
   "source": [
    "def insert(node, value):\n",
    "    if node:\n",
    "        if node.data > value:\n",
    "            node.left = insert(node.left, value)\n",
    "        else:\n",
    "            node.right = insert(node.right, value)\n",
    "        return node\n",
    "    return Node(value)"
   ]
  },
  {
   "cell_type": "code",
   "execution_count": 4,
   "metadata": {},
   "outputs": [],
   "source": [
    "def remove(node, value):\n",
    "    if node:\n",
    "        if node.data > value:\n",
    "            node.left = remove(node.left, value)\n",
    "        elif node.data < value:\n",
    "            node.right = remove(node.right, value)\n",
    "        else:\n",
    "            if not node.left:\n",
    "                return node.right\n",
    "            if not node.right:\n",
    "                return node.left\n",
    "\n",
    "            # inorder successor\n",
    "            tmp = node.right\n",
    "            while tmp.left:\n",
    "                tmp = tmp.left\n",
    "            node.data = tmp.data\n",
    "            node.right = remove(node.right, tmp.data)\n",
    "\n",
    "            # inorder predecessor\n",
    "            # tmp = node.left\n",
    "            # while tmp.right:\n",
    "            #     tmp = tmp.right\n",
    "            # node.data = tmp.data\n",
    "            # node.left = remove(node.left, tmp.data)\n",
    "\n",
    "            return node\n",
    "        return node"
   ]
  },
  {
   "cell_type": "code",
   "execution_count": 5,
   "metadata": {},
   "outputs": [],
   "source": [
    "def search(node: 'Node | None', value):\n",
    "    if node:\n",
    "        if node.data < value:\n",
    "            return search(node.right, value)\n",
    "        if node.data > value:\n",
    "            return search(node.left, value)\n",
    "        return node\n",
    "\n",
    "\n",
    "def display(node: 'Node | None'):\n",
    "    if node:\n",
    "        display(node.left)\n",
    "        print(node.data, end=' ')\n",
    "        display(node.right)"
   ]
  },
  {
   "cell_type": "code",
   "execution_count": 6,
   "metadata": {},
   "outputs": [],
   "source": [
    "def parent_of(node: 'Node | None', value, parent=None):\n",
    "    if node:\n",
    "        if node.data < value:\n",
    "            return parent_of(node.right, value, node)\n",
    "        elif node.data > value:\n",
    "            return parent_of(node.left, value, node)\n",
    "        else:\n",
    "            return parent"
   ]
  },
  {
   "cell_type": "code",
   "execution_count": 7,
   "metadata": {},
   "outputs": [],
   "source": [
    "def children_of(node):\n",
    "    if node:\n",
    "        if node.left and node.right:\n",
    "            return (node.left.data, node.right.data)\n",
    "        elif node.left:\n",
    "            return (node.left.data)\n",
    "        elif node.right:\n",
    "            return (node.right.data)\n",
    "    return ()"
   ]
  },
  {
   "cell_type": "code",
   "execution_count": 8,
   "metadata": {},
   "outputs": [],
   "source": [
    "class BST:\n",
    "    def __init__(self):\n",
    "        self.root = None\n",
    "\n",
    "    def insert(self, value):\n",
    "        self.root = insert(self.root, value)\n",
    "\n",
    "    def remove(self, value):\n",
    "        self.root = remove(self.root, value)\n",
    "\n",
    "    def parent(self, value):\n",
    "        node = parent_of(self.root, value)\n",
    "        return node.data if node else None\n",
    "    \n",
    "    def children(self, value):\n",
    "        return children_of(search(self.root, value))\n",
    "\n",
    "    def display(self):\n",
    "        display(self.root)\n",
    "        print()\n",
    "\n",
    "    def __len__(self):\n",
    "        count = 0\n",
    "        def __inorder(node):\n",
    "            nonlocal count\n",
    "            if node:\n",
    "                __inorder(node.left)\n",
    "                count += 1\n",
    "                __inorder(node.right)\n",
    "        __inorder(self.root)\n",
    "        return count\n",
    "\n",
    "    def __iter__(self):\n",
    "        it = []\n",
    "        def __inorder(node):\n",
    "            nonlocal it\n",
    "            if node:\n",
    "                __inorder(node.left)\n",
    "                it.append(node.data)\n",
    "                __inorder(node.right)\n",
    "        __inorder(self.root)\n",
    "        return iter(it)"
   ]
  },
  {
   "cell_type": "code",
   "execution_count": 9,
   "metadata": {},
   "outputs": [],
   "source": [
    "import random"
   ]
  },
  {
   "cell_type": "code",
   "execution_count": 10,
   "metadata": {},
   "outputs": [],
   "source": [
    "values = [5, 2, 6, 3, 8, 4, 1, 9, 0, 7]"
   ]
  },
  {
   "cell_type": "code",
   "execution_count": 11,
   "metadata": {},
   "outputs": [
    {
     "name": "stdout",
     "output_type": "stream",
     "text": [
      "0 1 2 3 4 5 6 7 8 9 \n"
     ]
    }
   ],
   "source": [
    "t = BST()\n",
    "for value in values:\n",
    "    t.insert(value)\n",
    "t.display()"
   ]
  },
  {
   "cell_type": "code",
   "execution_count": 12,
   "metadata": {},
   "outputs": [
    {
     "data": {
      "text/plain": [
       "5"
      ]
     },
     "execution_count": 12,
     "metadata": {},
     "output_type": "execute_result"
    }
   ],
   "source": [
    "t.root.data # root of the BST"
   ]
  },
  {
   "cell_type": "code",
   "execution_count": 13,
   "metadata": {},
   "outputs": [],
   "source": [
    "t.remove(3)"
   ]
  },
  {
   "cell_type": "code",
   "execution_count": 14,
   "metadata": {},
   "outputs": [
    {
     "name": "stdout",
     "output_type": "stream",
     "text": [
      "0 1 2 4 5 6 7 8 9 \n"
     ]
    }
   ],
   "source": [
    "t.display()"
   ]
  },
  {
   "cell_type": "code",
   "execution_count": 15,
   "metadata": {},
   "outputs": [
    {
     "data": {
      "text/plain": [
       "5"
      ]
     },
     "execution_count": 15,
     "metadata": {},
     "output_type": "execute_result"
    }
   ],
   "source": [
    "t.root.data # new root of the BST"
   ]
  },
  {
   "cell_type": "code",
   "execution_count": 16,
   "metadata": {},
   "outputs": [
    {
     "data": {
      "text/plain": [
       "9"
      ]
     },
     "execution_count": 16,
     "metadata": {},
     "output_type": "execute_result"
    }
   ],
   "source": [
    "len(t) # no of elements in the tree"
   ]
  },
  {
   "cell_type": "code",
   "execution_count": 17,
   "metadata": {},
   "outputs": [
    {
     "name": "stdout",
     "output_type": "stream",
     "text": [
      "Sum of all elements is 42\n"
     ]
    }
   ],
   "source": [
    "s = 0\n",
    "for v in t: # iteration using __iter__\n",
    "    s += v\n",
    "print(\"Sum of all elements is\", s)"
   ]
  },
  {
   "cell_type": "code",
   "execution_count": 18,
   "metadata": {},
   "outputs": [
    {
     "name": "stdout",
     "output_type": "stream",
     "text": [
      "0 1 2 4 5 6 7 8 9 \n"
     ]
    }
   ],
   "source": [
    "t.display()"
   ]
  },
  {
   "cell_type": "code",
   "execution_count": 19,
   "metadata": {},
   "outputs": [
    {
     "data": {
      "text/plain": [
       "2"
      ]
     },
     "execution_count": 19,
     "metadata": {},
     "output_type": "execute_result"
    }
   ],
   "source": [
    "t.parent(1) # i.e the parent of node 1 is node 2"
   ]
  },
  {
   "cell_type": "code",
   "execution_count": 20,
   "metadata": {},
   "outputs": [
    {
     "data": {
      "text/plain": [
       "(1, 4)"
      ]
     },
     "execution_count": 20,
     "metadata": {},
     "output_type": "execute_result"
    }
   ],
   "source": [
    "t.children(2) # we can verify that node 1 is parent is indeed node 2"
   ]
  },
  {
   "cell_type": "code",
   "execution_count": 21,
   "metadata": {},
   "outputs": [],
   "source": [
    "if len(t.children(8)) == 0: # no of children\n",
    "    print(\"node 8 is left node\")"
   ]
  }
 ],
 "metadata": {
  "kernelspec": {
   "display_name": "Python 3",
   "language": "python",
   "name": "python3"
  },
  "language_info": {
   "codemirror_mode": {
    "name": "ipython",
    "version": 3
   },
   "file_extension": ".py",
   "mimetype": "text/x-python",
   "name": "python",
   "nbconvert_exporter": "python",
   "pygments_lexer": "ipython3",
   "version": "3.12.1"
  }
 },
 "nbformat": 4,
 "nbformat_minor": 2
}
