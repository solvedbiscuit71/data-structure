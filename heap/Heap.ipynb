{
 "cells": [
  {
   "cell_type": "markdown",
   "metadata": {},
   "source": [
    "Lab Assessment (30 Jan 2024)\n",
    "---\n",
    "Done By Praveen Perumal (CH.EN.U4CSE22047)"
   ]
  },
  {
   "cell_type": "code",
   "execution_count": 127,
   "metadata": {},
   "outputs": [],
   "source": [
    "import operator\n",
    "from collections import UserList"
   ]
  },
  {
   "cell_type": "code",
   "execution_count": 128,
   "metadata": {},
   "outputs": [],
   "source": [
    "class CustomList(UserList):\n",
    "    def __init__(self, initList=None, key=None) -> None:\n",
    "        self.key = key\n",
    "        super().__init__(initList)\n",
    "\n",
    "    def __getitem__(self, i): # type: ignore\n",
    "        if callable(self.key):\n",
    "            return self.key(super().__getitem__(i))\n",
    "        else:\n",
    "            return super().__getitem__(i)\n",
    "\n",
    "    def swap(self, i, j):\n",
    "        self.data[i], self.data[j] = self.data[j], self.data[i]"
   ]
  },
  {
   "cell_type": "code",
   "execution_count": 129,
   "metadata": {},
   "outputs": [],
   "source": [
    "class PriorityQueue:\n",
    "    def __init__(self, *, max=False, key=None) -> None:\n",
    "        self.que = CustomList(key=key)\n",
    "        self.cmp = operator.gt if not max else operator.lt\n",
    "\n",
    "    def _child(self, i):\n",
    "        l = 2*i + 1 if 2*i + 1 < len(self.que) else None\n",
    "        r = 2*i + 2 if 2*i + 2 < len(self.que) else None\n",
    "        return l, r\n",
    "\n",
    "    def _next_child(self, i):\n",
    "        l, r = self._child(i)\n",
    "        if l and r:\n",
    "            return r if self.cmp(self.que[l], self.que[r]) else l\n",
    "        return l\n",
    "\n",
    "    def _parent(self, i):\n",
    "        return (i-1) // 2 if i > 0 else None\n",
    "\n",
    "    def _bubble_up(self, i):\n",
    "        j = self._parent(i)\n",
    "        while j is not None:\n",
    "            if self.cmp(self.que[j], self.que[i]):\n",
    "                self.que.swap(i, j)\n",
    "                i = j\n",
    "                j = self._parent(i)\n",
    "            else:\n",
    "                break\n",
    "\n",
    "    def _bubble_down(self, i):\n",
    "        j = self._next_child(i)\n",
    "        while j is not None:\n",
    "            if self.cmp(self.que[i], self.que[j]):\n",
    "                self.que.swap(i, j)\n",
    "                i = j\n",
    "                j = self._next_child(i)\n",
    "            else:\n",
    "                break\n",
    "\n",
    "    def push(self, value):\n",
    "        self.que.append(value)\n",
    "        self._bubble_up(len(self.que) - 1)\n",
    "\n",
    "    def pop(self, value=None):\n",
    "        if not self.que:\n",
    "            return None\n",
    "\n",
    "        index = self.que.index(value) if value is not None else 0\n",
    "        self.que.swap(index, -1)\n",
    "        top = self.que.pop()\n",
    "        parent = self._parent(index)\n",
    "        if parent and self.cmp(self.que[parent], self.que[index]):\n",
    "            self._bubble_up(index)\n",
    "        else:\n",
    "            self._bubble_down(index)\n",
    "        return top\n",
    "\n",
    "    def peek(self):\n",
    "        return self.que.data[0] if self.que else None\n",
    "\n",
    "    def __len__(self):\n",
    "        return len(self.que)\n",
    "\n",
    "    def __str__(self):\n",
    "        return str(self.que)"
   ]
  },
  {
   "cell_type": "code",
   "execution_count": 130,
   "metadata": {},
   "outputs": [],
   "source": [
    "q = PriorityQueue() # MinHeap"
   ]
  },
  {
   "cell_type": "code",
   "execution_count": 131,
   "metadata": {},
   "outputs": [],
   "source": [
    "import random\n",
    "for _ in range(5):\n",
    "    q.push(random.randint(1, 10))"
   ]
  },
  {
   "cell_type": "code",
   "execution_count": 132,
   "metadata": {},
   "outputs": [
    {
     "name": "stdout",
     "output_type": "stream",
     "text": [
      "1\n",
      "2\n",
      "4\n",
      "5\n",
      "6\n"
     ]
    }
   ],
   "source": [
    "while q:\n",
    "    print(q.pop())"
   ]
  },
  {
   "cell_type": "code",
   "execution_count": 133,
   "metadata": {},
   "outputs": [],
   "source": [
    "q = PriorityQueue(max=True) # MaxHeap"
   ]
  },
  {
   "cell_type": "code",
   "execution_count": 134,
   "metadata": {},
   "outputs": [],
   "source": [
    "import random\n",
    "for _ in range(5):\n",
    "    q.push(random.randint(1, 10))"
   ]
  },
  {
   "cell_type": "code",
   "execution_count": 135,
   "metadata": {},
   "outputs": [
    {
     "name": "stdout",
     "output_type": "stream",
     "text": [
      "8\n",
      "7\n",
      "3\n",
      "3\n",
      "1\n"
     ]
    }
   ],
   "source": [
    "while q:\n",
    "    print(q.pop())"
   ]
  },
  {
   "cell_type": "code",
   "execution_count": 136,
   "metadata": {},
   "outputs": [],
   "source": [
    "q = PriorityQueue(key=lambda t: t[0])"
   ]
  },
  {
   "cell_type": "code",
   "execution_count": 137,
   "metadata": {},
   "outputs": [],
   "source": [
    "q.push((2, 'Task 1'))\n",
    "q.push((1, 'Task 2'))\n",
    "q.push((3, 'Task 3'))\n",
    "q.push((2, 'Task 4'))"
   ]
  },
  {
   "cell_type": "code",
   "execution_count": 138,
   "metadata": {},
   "outputs": [
    {
     "name": "stdout",
     "output_type": "stream",
     "text": [
      "Task 2\n",
      "Task 4\n",
      "Task 1\n",
      "Task 3\n"
     ]
    }
   ],
   "source": [
    "while q:\n",
    "    print(q.pop()[1])"
   ]
  },
  {
   "cell_type": "code",
   "execution_count": 139,
   "metadata": {},
   "outputs": [],
   "source": [
    "class Process:\n",
    "    def __init__(self, id, priority=0) -> None:\n",
    "        self.id = id\n",
    "        self.priority = priority\n",
    "\n",
    "    def __str__(self) -> str:\n",
    "        return f\"Process({self.id}, {self.priority})\"\n",
    "    \n",
    "    def __repr__(self) -> str:\n",
    "        return str(self)"
   ]
  },
  {
   "cell_type": "code",
   "execution_count": 140,
   "metadata": {},
   "outputs": [],
   "source": [
    "q = PriorityQueue(max=True, key=operator.attrgetter('priority'))"
   ]
  },
  {
   "cell_type": "code",
   "execution_count": 141,
   "metadata": {},
   "outputs": [],
   "source": [
    "q.push(Process(1))\n",
    "q.push(Process(3,5))\n",
    "q.push(Process(2,2))\n",
    "q.push(Process(4,3))\n",
    "q.push(Process(5))"
   ]
  },
  {
   "cell_type": "code",
   "execution_count": 142,
   "metadata": {},
   "outputs": [
    {
     "data": {
      "text/plain": [
       "Process(3, 5)"
      ]
     },
     "execution_count": 142,
     "metadata": {},
     "output_type": "execute_result"
    }
   ],
   "source": [
    "q.peek()"
   ]
  },
  {
   "cell_type": "code",
   "execution_count": 143,
   "metadata": {},
   "outputs": [
    {
     "name": "stdout",
     "output_type": "stream",
     "text": [
      "Process(3, 5)\n",
      "Process(4, 3)\n",
      "Process(2, 2)\n",
      "Process(1, 0)\n",
      "Process(5, 0)\n"
     ]
    }
   ],
   "source": [
    "while q:\n",
    "    print(q.pop())"
   ]
  }
 ],
 "metadata": {
  "kernelspec": {
   "display_name": "Python 3",
   "language": "python",
   "name": "python3"
  },
  "language_info": {
   "codemirror_mode": {
    "name": "ipython",
    "version": 3
   },
   "file_extension": ".py",
   "mimetype": "text/x-python",
   "name": "python",
   "nbconvert_exporter": "python",
   "pygments_lexer": "ipython3",
   "version": "3.11.7"
  }
 },
 "nbformat": 4,
 "nbformat_minor": 2
}
